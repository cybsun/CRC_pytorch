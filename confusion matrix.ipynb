{
 "cells": [
  {
   "cell_type": "code",
   "execution_count": 1,
   "metadata": {},
   "outputs": [],
   "source": [
    "#confusion matrix\n",
    "import pandas as pd\n",
    "import numpy as np\n",
    "import matplotlib.pyplot as plt\n",
    "from sklearn.metrics import confusion_matrix\n",
    "import seaborn as sn\n",
    "import cv2\n",
    "import itertools\n",
    "from PIL import Image\n",
    "import scipy.ndimage"
   ]
  },
  {
   "cell_type": "code",
   "execution_count": 2,
   "metadata": {},
   "outputs": [],
   "source": [
    "im = Image.open('test_5_GT_4x_gland_tumor.png')"
   ]
  },
  {
   "cell_type": "code",
   "execution_count": 3,
   "metadata": {},
   "outputs": [],
   "source": [
    "def rgb2label(img, color_codes=None):\n",
    "    \"\"\"Converts a PIL RGB image to an indexed labelmap.\n",
    "    Given an image of size (h,w,3) -- an RGB image -- this function creates a\n",
    "    numpy array of size (h,w) where each pixel is replaced with an index listed\n",
    "    in `color_codes`. The input image should be a pixel labelmap with a small\n",
    "    number of discrete rgb values. The indices of color_codes should be between\n",
    "    [0, C-1] where C is the number of classes.\n",
    "    Args:\n",
    "        img: A PIL image.\n",
    "        color_codes: A dict where each key is an rgb tuple, and the\n",
    "            corresponding value is the index to replace.\n",
    "    Returns:\n",
    "        A numpy array containing class indices instead of RGB values.\n",
    "    \"\"\"\n",
    "    if color_codes is None:\n",
    "        raise ValueError('You must provide a color_code dictionary mapping RGB values to index values.')\n",
    "\n",
    "    # Pull the RGB tuple from the PIL image\n",
    "    vals = list(img.getdata())\n",
    "    #vals = im.tolist()\n",
    "    h, w = np.shape(img)[:2]\n",
    "\n",
    "    # If we've received RGBA values, remove the last pixel from each tuple\n",
    "    if img.mode == 'RGBA':\n",
    "        assert type(vals[0]) == tuple, 'Mask is RGBA type, but pixels are not tuples'\n",
    "        vals = [x[:-1] for x in vals]\n",
    "\n",
    "    # Create a placeholder for the index labelmap, set to 0\n",
    "    result = np.ndarray(shape=(h, w), dtype=int)\n",
    "    result[:, :] = 0\n",
    "\n",
    "    for rgb, idx in color_codes.items():\n",
    "        # Test each tuple\n",
    "        vals_bin = [v == rgb for v in vals]\n",
    "        vals_bin = np.reshape(vals_bin, (h, w))\n",
    "\n",
    "        # Replace the location in the result image with the index value\n",
    "        result[vals_bin] = idx\n",
    "\n",
    "\n",
    "    return result"
   ]
  },
  {
   "cell_type": "code",
   "execution_count": 4,
   "metadata": {},
   "outputs": [],
   "source": [
    "dictionary = {\n",
    "                (0, 255, 0): 7,     #tumor bud\n",
    "                (255, 0, 0): 4,     #RBCs\n",
    "                (128, 0, 0): 6,     #stroma\n",
    "                (0, 255, 255): 5,   #smooth muscle\n",
    "                (255, 255, 0): 2,   #lymphocyte\n",
    "                #(0, 0, 128): 3,     #mucin\n",
    "                (0, 128, 0): 1,     #epithelial cell\n",
    "                (0, 0, 0): 0,       #white background\n",
    "                (255, 0, 255): 8    #tumor tissue\n",
    "            }"
   ]
  },
  {
   "cell_type": "code",
   "execution_count": 5,
   "metadata": {},
   "outputs": [],
   "source": [
    "im = rgb2label(im, dictionary)"
   ]
  },
  {
   "cell_type": "code",
   "execution_count": 6,
   "metadata": {},
   "outputs": [
    {
     "name": "stdout",
     "output_type": "stream",
     "text": [
      "(4800, 4800)\n"
     ]
    }
   ],
   "source": [
    "print(np.shape(im))"
   ]
  },
  {
   "cell_type": "code",
   "execution_count": 7,
   "metadata": {},
   "outputs": [],
   "source": [
    "from collections import Iterable\n",
    "def flatten(lis):\n",
    "     for item in lis:\n",
    "         if isinstance(item, Iterable):\n",
    "             for x in flatten(item):\n",
    "                 yield x\n",
    "         else:        \n",
    "             yield item"
   ]
  },
  {
   "cell_type": "code",
   "execution_count": 8,
   "metadata": {},
   "outputs": [],
   "source": [
    "im = im.tolist()\n",
    "\n",
    "im = list(flatten(im))"
   ]
  },
  {
   "cell_type": "code",
   "execution_count": 9,
   "metadata": {},
   "outputs": [
    {
     "name": "stdout",
     "output_type": "stream",
     "text": [
      "(23040000,)\n"
     ]
    }
   ],
   "source": [
    "print(np.shape(im))"
   ]
  },
  {
   "cell_type": "code",
   "execution_count": 21,
   "metadata": {},
   "outputs": [
    {
     "name": "stderr",
     "output_type": "stream",
     "text": [
      "C:\\Users\\chenyusu\\Anaconda3\\lib\\site-packages\\pandas\\io\\excel.py:329: FutureWarning: The `sheetname` keyword is deprecated, use `sheet_name` instead\n",
      "  **kwds)\n"
     ]
    }
   ],
   "source": [
    "w = pd.read_excel('tumorbudclassifier_more_pred_e40_0.01_0.01_sn_3_0.95g_0.8t.xlsx', sheetname='Sheet1', header=None) #if the first cell is Nan, write 7 to it first\n",
    "\n",
    "nrows = 600\n",
    "ncols = 600\n",
    "\n",
    "w = np.array(w, dtype=np.int)\n",
    "w = np.reshape(w,(nrows, ncols))\n",
    "\n",
    "w = scipy.ndimage.zoom(w, 8, order=0)  #'Resampled by a factor of 8 with nearest interpolation'"
   ]
  },
  {
   "cell_type": "code",
   "execution_count": 22,
   "metadata": {},
   "outputs": [],
   "source": [
    "w = w.astype(int)\n",
    "w = w.tolist()\n",
    "w = list(flatten(w))"
   ]
  },
  {
   "cell_type": "code",
   "execution_count": 23,
   "metadata": {},
   "outputs": [
    {
     "name": "stdout",
     "output_type": "stream",
     "text": [
      "[0 1 2 4 5 6 7 8]\n"
     ]
    }
   ],
   "source": [
    "print(np.unique(w))"
   ]
  },
  {
   "cell_type": "code",
   "execution_count": 24,
   "metadata": {},
   "outputs": [],
   "source": [
    "y_true = im\n",
    "y_pred = w"
   ]
  },
  {
   "cell_type": "code",
   "execution_count": 25,
   "metadata": {},
   "outputs": [
    {
     "name": "stdout",
     "output_type": "stream",
     "text": [
      "Normalized confusion matrix\n",
      "[[5.62e-01 1.16e-01 1.68e-02 1.39e-02 3.11e-02 1.47e-01 1.36e-03 1.12e-01]\n",
      " [2.87e-03 8.64e-01 6.77e-03 6.72e-04 6.25e-03 8.05e-02 2.27e-02 1.64e-02]\n",
      " [6.23e-04 8.65e-02 6.63e-01 6.75e-03 1.33e-02 1.62e-01 6.69e-02 1.95e-04]\n",
      " [1.83e-02 7.89e-02 8.71e-03 7.36e-01 5.53e-02 8.43e-02 1.63e-03 1.67e-02]\n",
      " [4.02e-03 8.95e-03 1.34e-02 4.10e-03 7.77e-01 1.82e-01 1.02e-02 9.74e-04]\n",
      " [1.91e-02 1.27e-01 5.28e-02 6.90e-03 3.04e-01 4.25e-01 3.47e-02 3.05e-02]\n",
      " [0.00e+00 1.11e-02 1.38e-01 0.00e+00 1.56e-02 3.04e-01 3.78e-01 1.53e-01]\n",
      " [1.43e-03 3.74e-02 2.15e-02 9.39e-04 9.72e-03 1.34e-01 5.27e-02 7.42e-01]]\n"
     ]
    },
    {
     "data": {
      "image/png": "[encoded data removed]",
      "text/plain": [
       "<Figure size 432x288 with 2 Axes>"
      ]
     },
     "metadata": {},
     "output_type": "display_data"
    }
   ],
   "source": [
    "cm = confusion_matrix(y_true, y_pred)\n",
    "\n",
    "accuracy = np.trace(cm) / float(np.sum(cm))\n",
    "misclass = 1 - accuracy\n",
    "\n",
    "#cm = np.load('C:/Users/chenyusu/CRCproject/CRC_pytorch_chenyu/src/cm_tumorbud_60.npy')\n",
    "\n",
    "class_names = ['Background', 'Gland', 'Lymphocytes', 'RBCs', 'SmoothMuscle', 'Stroma', 'TumorBuds', 'TumorMucosa']\n",
    "#class_names = [0,1,2,3,4,5,6,7,8]\n",
    "\n",
    "def plot_confusion_matrix(cm, classes,\n",
    "                          normalize=False,\n",
    "                          title='Confusion matrix',\n",
    "                          cmap=plt.cm.Blues):\n",
    "    \n",
    "\n",
    "    \"\"\"\n",
    "    This function prints and plots the confusion matrix.\n",
    "    Normalization can be applied by setting `normalize=True`.\n",
    "    \"\"\"\n",
    "    if normalize:\n",
    "        cm = cm.astype('float') / cm.sum(axis=1)[:, np.newaxis]\n",
    "        print(\"Normalized confusion matrix\")\n",
    "    else:\n",
    "        print('Confusion matrix, without normalization')\n",
    "\n",
    "    print(cm)\n",
    "\n",
    "    plt.imshow(cm, cmap=cmap)\n",
    "    plt.title(title)\n",
    "    plt.colorbar()\n",
    "    tick_marks = np.arange(len(classes))\n",
    "    plt.xticks(tick_marks, classes, rotation=90)\n",
    "    plt.yticks(tick_marks, classes)\n",
    "\n",
    "    fmt = '.2f' if normalize else 'd'\n",
    "    thresh = cm.max() / 2.\n",
    "    for i, j in itertools.product(range(cm.shape[0]), range(cm.shape[1])):\n",
    "        plt.text(j, i, format(cm[i, j], fmt),\n",
    "                 horizontalalignment=\"center\",\n",
    "                 color=\"white\" if cm[i, j] > thresh else \"black\")\n",
    "\n",
    "    plt.ylabel('True label')\n",
    "    plt.xlabel('Predicted label')\n",
    "    plt.xlabel('Predicted label\\naccuracy={:0.4f}; misclass={:0.4f}'.format(accuracy, misclass))\n",
    "    #plt.tight_layout()\n",
    "    \n",
    "# Compute confusion matrix\n",
    "cnf_matrix = confusion_matrix(y_true, y_pred)\n",
    "np.set_printoptions(precision=2)\n",
    "\n",
    "# Plot non-normalized confusion matrix\n",
    "#plt.figure()\n",
    "#plot_confusion_matrix(cnf_matrix, classes=class_names,\n",
    "                      #title='Confusion matrix, without normalization')\n",
    "\n",
    "# Plot normalized confusion matrix\n",
    "plt.figure()\n",
    "plot_confusion_matrix(cnf_matrix, classes=class_names, normalize=True)\n",
    "\n",
    "#df_cm = pd.DataFrame(cm, range(9), range(9))\n",
    "#sn.set(font_scale=1.4)#for label size\n",
    "#sn.heatmap(df_cm, annot=True, fmt='d',annot_kws={\"size\": 16}, xticklabels=['Background', 'Epithelial', 'Lymphocytes', 'Mucin', 'RBCs', 'SmoothMuscle', 'Stroma', 'TumorBuds', 'TumorMucosa'], yticklabels=['Background', 'Epithelial', 'Lymphocytes', 'Mucin', 'RBCs', 'SmoothMuscle', 'Stroma', 'TumorBuds', 'TumorMucosa'])# font size\n",
    "#plt.show()\n",
    "plt.savefig('cm_tumorbud_4x_sn_3_0.95g_0.8t_e40_0.01_0.01.png', bbox_inches='tight', dpi=1000)"
   ]
  },
  {
   "cell_type": "code",
   "execution_count": null,
   "metadata": {},
   "outputs": [],
   "source": []
  }
 ],
 "metadata": {
  "kernelspec": {
   "display_name": "Python 3",
   "language": "python",
   "name": "python3"
  },
  "language_info": {
   "codemirror_mode": {
    "name": "ipython",
    "version": 3
   },
   "file_extension": ".py",
   "mimetype": "text/x-python",
   "name": "python",
   "nbconvert_exporter": "python",
   "pygments_lexer": "ipython3",
   "version": "3.6.5"
  }
 },
 "nbformat": 4,
 "nbformat_minor": 2
}
