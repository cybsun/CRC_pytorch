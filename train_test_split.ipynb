{
 "cells": [
  {
   "cell_type": "code",
   "execution_count": 3,
   "metadata": {},
   "outputs": [],
   "source": [
    "import numpy as np\n",
    "from sklearn.model_selection import train_test_split"
   ]
  },
  {
   "cell_type": "code",
   "execution_count": 8,
   "metadata": {},
   "outputs": [],
   "source": [
    "#load data\n",
    "from skimage import io\n",
    "x1 = io.imread_collection('C:/Users/chenyusu/CRCproject/data/threeclass_320_0.25/tumormucosa/*.png')"
   ]
  },
  {
   "cell_type": "code",
   "execution_count": 9,
   "metadata": {},
   "outputs": [],
   "source": [
    "x1_train, x1_test = train_test_split(x1, test_size = 0.33, random_state = 42)"
   ]
  },
  {
   "cell_type": "code",
   "execution_count": 10,
   "metadata": {},
   "outputs": [
    {
     "name": "stderr",
     "output_type": "stream",
     "text": [
      "C:\\Users\\chenyusu\\Anaconda3\\lib\\site-packages\\skimage\\io\\_io.py:140: UserWarning: C:/Users/chenyusu/CRCproject/data/train_threeclass_320_0.25/tumormucosa/0845.png is a low contrast image\n",
      "  warn('%s is a low contrast image' % fname)\n"
     ]
    }
   ],
   "source": [
    "for i in range(len(x1_train)):\n",
    "    io.imsave('C:/Users/chenyusu/CRCproject/data/train_threeclass_320_0.25/tumormucosa/%04d.png' %i, x1_train[i])\n",
    "    \n",
    "for i in range(len(x1_test)):\n",
    "    io.imsave('C:/Users/chenyusu/CRCproject/data/test_threeclass_320_0.25/tumormucosa/%04d.png' %i, x1_test[i])"
   ]
  },
  {
   "cell_type": "code",
   "execution_count": 1,
   "metadata": {},
   "outputs": [],
   "source": [
    "from skimage import io\n",
    "p = io.imread_collection('C:/Users/chenyusu/CRCproject/data/other_new/*.png')"
   ]
  },
  {
   "cell_type": "code",
   "execution_count": 4,
   "metadata": {},
   "outputs": [],
   "source": [
    "p_new, p_rest = train_test_split(p, test_size = 0.33, random_state = 42)"
   ]
  },
  {
   "cell_type": "code",
   "execution_count": 6,
   "metadata": {},
   "outputs": [
    {
     "name": "stderr",
     "output_type": "stream",
     "text": [
      "C:\\Users\\chenyusu\\Anaconda3\\lib\\site-packages\\skimage\\io\\_io.py:140: UserWarning: C:/Users/chenyusu/CRCproject/data/test_other_new/0002.png is a low contrast image\n",
      "  warn('%s is a low contrast image' % fname)\n",
      "C:\\Users\\chenyusu\\Anaconda3\\lib\\site-packages\\skimage\\io\\_io.py:140: UserWarning: C:/Users/chenyusu/CRCproject/data/test_other_new/0034.png is a low contrast image\n",
      "  warn('%s is a low contrast image' % fname)\n",
      "C:\\Users\\chenyusu\\Anaconda3\\lib\\site-packages\\skimage\\io\\_io.py:140: UserWarning: C:/Users/chenyusu/CRCproject/data/test_other_new/0036.png is a low contrast image\n",
      "  warn('%s is a low contrast image' % fname)\n",
      "C:\\Users\\chenyusu\\Anaconda3\\lib\\site-packages\\skimage\\io\\_io.py:140: UserWarning: C:/Users/chenyusu/CRCproject/data/test_other_new/0049.png is a low contrast image\n",
      "  warn('%s is a low contrast image' % fname)\n",
      "C:\\Users\\chenyusu\\Anaconda3\\lib\\site-packages\\skimage\\io\\_io.py:140: UserWarning: C:/Users/chenyusu/CRCproject/data/test_other_new/0060.png is a low contrast image\n",
      "  warn('%s is a low contrast image' % fname)\n",
      "C:\\Users\\chenyusu\\Anaconda3\\lib\\site-packages\\skimage\\io\\_io.py:140: UserWarning: C:/Users/chenyusu/CRCproject/data/test_other_new/0072.png is a low contrast image\n",
      "  warn('%s is a low contrast image' % fname)\n",
      "C:\\Users\\chenyusu\\Anaconda3\\lib\\site-packages\\skimage\\io\\_io.py:140: UserWarning: C:/Users/chenyusu/CRCproject/data/test_other_new/0092.png is a low contrast image\n",
      "  warn('%s is a low contrast image' % fname)\n",
      "C:\\Users\\chenyusu\\Anaconda3\\lib\\site-packages\\skimage\\io\\_io.py:140: UserWarning: C:/Users/chenyusu/CRCproject/data/test_other_new/0098.png is a low contrast image\n",
      "  warn('%s is a low contrast image' % fname)\n",
      "C:\\Users\\chenyusu\\Anaconda3\\lib\\site-packages\\skimage\\io\\_io.py:140: UserWarning: C:/Users/chenyusu/CRCproject/data/test_other_new/0099.png is a low contrast image\n",
      "  warn('%s is a low contrast image' % fname)\n",
      "C:\\Users\\chenyusu\\Anaconda3\\lib\\site-packages\\skimage\\io\\_io.py:140: UserWarning: C:/Users/chenyusu/CRCproject/data/test_other_new/0104.png is a low contrast image\n",
      "  warn('%s is a low contrast image' % fname)\n",
      "C:\\Users\\chenyusu\\Anaconda3\\lib\\site-packages\\skimage\\io\\_io.py:140: UserWarning: C:/Users/chenyusu/CRCproject/data/test_other_new/0119.png is a low contrast image\n",
      "  warn('%s is a low contrast image' % fname)\n",
      "C:\\Users\\chenyusu\\Anaconda3\\lib\\site-packages\\skimage\\io\\_io.py:140: UserWarning: C:/Users/chenyusu/CRCproject/data/test_other_new/0124.png is a low contrast image\n",
      "  warn('%s is a low contrast image' % fname)\n",
      "C:\\Users\\chenyusu\\Anaconda3\\lib\\site-packages\\skimage\\io\\_io.py:140: UserWarning: C:/Users/chenyusu/CRCproject/data/test_other_new/0125.png is a low contrast image\n",
      "  warn('%s is a low contrast image' % fname)\n",
      "C:\\Users\\chenyusu\\Anaconda3\\lib\\site-packages\\skimage\\io\\_io.py:140: UserWarning: C:/Users/chenyusu/CRCproject/data/test_other_new/0128.png is a low contrast image\n",
      "  warn('%s is a low contrast image' % fname)\n",
      "C:\\Users\\chenyusu\\Anaconda3\\lib\\site-packages\\skimage\\io\\_io.py:140: UserWarning: C:/Users/chenyusu/CRCproject/data/test_other_new/0139.png is a low contrast image\n",
      "  warn('%s is a low contrast image' % fname)\n",
      "C:\\Users\\chenyusu\\Anaconda3\\lib\\site-packages\\skimage\\io\\_io.py:140: UserWarning: C:/Users/chenyusu/CRCproject/data/test_other_new/0153.png is a low contrast image\n",
      "  warn('%s is a low contrast image' % fname)\n",
      "C:\\Users\\chenyusu\\Anaconda3\\lib\\site-packages\\skimage\\io\\_io.py:140: UserWarning: C:/Users/chenyusu/CRCproject/data/test_other_new/0154.png is a low contrast image\n",
      "  warn('%s is a low contrast image' % fname)\n",
      "C:\\Users\\chenyusu\\Anaconda3\\lib\\site-packages\\skimage\\io\\_io.py:140: UserWarning: C:/Users/chenyusu/CRCproject/data/test_other_new/0168.png is a low contrast image\n",
      "  warn('%s is a low contrast image' % fname)\n",
      "C:\\Users\\chenyusu\\Anaconda3\\lib\\site-packages\\skimage\\io\\_io.py:140: UserWarning: C:/Users/chenyusu/CRCproject/data/test_other_new/0169.png is a low contrast image\n",
      "  warn('%s is a low contrast image' % fname)\n",
      "C:\\Users\\chenyusu\\Anaconda3\\lib\\site-packages\\skimage\\io\\_io.py:140: UserWarning: C:/Users/chenyusu/CRCproject/data/test_other_new/0170.png is a low contrast image\n",
      "  warn('%s is a low contrast image' % fname)\n",
      "C:\\Users\\chenyusu\\Anaconda3\\lib\\site-packages\\skimage\\io\\_io.py:140: UserWarning: C:/Users/chenyusu/CRCproject/data/test_other_new/0171.png is a low contrast image\n",
      "  warn('%s is a low contrast image' % fname)\n",
      "C:\\Users\\chenyusu\\Anaconda3\\lib\\site-packages\\skimage\\io\\_io.py:140: UserWarning: C:/Users/chenyusu/CRCproject/data/test_other_new/0188.png is a low contrast image\n",
      "  warn('%s is a low contrast image' % fname)\n",
      "C:\\Users\\chenyusu\\Anaconda3\\lib\\site-packages\\skimage\\io\\_io.py:140: UserWarning: C:/Users/chenyusu/CRCproject/data/test_other_new/0199.png is a low contrast image\n",
      "  warn('%s is a low contrast image' % fname)\n",
      "C:\\Users\\chenyusu\\Anaconda3\\lib\\site-packages\\skimage\\io\\_io.py:140: UserWarning: C:/Users/chenyusu/CRCproject/data/test_other_new/0201.png is a low contrast image\n",
      "  warn('%s is a low contrast image' % fname)\n",
      "C:\\Users\\chenyusu\\Anaconda3\\lib\\site-packages\\skimage\\io\\_io.py:140: UserWarning: C:/Users/chenyusu/CRCproject/data/test_other_new/0203.png is a low contrast image\n",
      "  warn('%s is a low contrast image' % fname)\n",
      "C:\\Users\\chenyusu\\Anaconda3\\lib\\site-packages\\skimage\\io\\_io.py:140: UserWarning: C:/Users/chenyusu/CRCproject/data/test_other_new/0206.png is a low contrast image\n",
      "  warn('%s is a low contrast image' % fname)\n",
      "C:\\Users\\chenyusu\\Anaconda3\\lib\\site-packages\\skimage\\io\\_io.py:140: UserWarning: C:/Users/chenyusu/CRCproject/data/test_other_new/0210.png is a low contrast image\n",
      "  warn('%s is a low contrast image' % fname)\n",
      "C:\\Users\\chenyusu\\Anaconda3\\lib\\site-packages\\skimage\\io\\_io.py:140: UserWarning: C:/Users/chenyusu/CRCproject/data/test_other_new/0228.png is a low contrast image\n",
      "  warn('%s is a low contrast image' % fname)\n",
      "C:\\Users\\chenyusu\\Anaconda3\\lib\\site-packages\\skimage\\io\\_io.py:140: UserWarning: C:/Users/chenyusu/CRCproject/data/test_other_new/0231.png is a low contrast image\n",
      "  warn('%s is a low contrast image' % fname)\n",
      "C:\\Users\\chenyusu\\Anaconda3\\lib\\site-packages\\skimage\\io\\_io.py:140: UserWarning: C:/Users/chenyusu/CRCproject/data/test_other_new/0244.png is a low contrast image\n",
      "  warn('%s is a low contrast image' % fname)\n",
      "C:\\Users\\chenyusu\\Anaconda3\\lib\\site-packages\\skimage\\io\\_io.py:140: UserWarning: C:/Users/chenyusu/CRCproject/data/test_other_new/0255.png is a low contrast image\n",
      "  warn('%s is a low contrast image' % fname)\n",
      "C:\\Users\\chenyusu\\Anaconda3\\lib\\site-packages\\skimage\\io\\_io.py:140: UserWarning: C:/Users/chenyusu/CRCproject/data/test_other_new/0267.png is a low contrast image\n",
      "  warn('%s is a low contrast image' % fname)\n",
      "C:\\Users\\chenyusu\\Anaconda3\\lib\\site-packages\\skimage\\io\\_io.py:140: UserWarning: C:/Users/chenyusu/CRCproject/data/test_other_new/0287.png is a low contrast image\n",
      "  warn('%s is a low contrast image' % fname)\n",
      "C:\\Users\\chenyusu\\Anaconda3\\lib\\site-packages\\skimage\\io\\_io.py:140: UserWarning: C:/Users/chenyusu/CRCproject/data/test_other_new/0290.png is a low contrast image\n",
      "  warn('%s is a low contrast image' % fname)\n",
      "C:\\Users\\chenyusu\\Anaconda3\\lib\\site-packages\\skimage\\io\\_io.py:140: UserWarning: C:/Users/chenyusu/CRCproject/data/test_other_new/0302.png is a low contrast image\n",
      "  warn('%s is a low contrast image' % fname)\n",
      "C:\\Users\\chenyusu\\Anaconda3\\lib\\site-packages\\skimage\\io\\_io.py:140: UserWarning: C:/Users/chenyusu/CRCproject/data/test_other_new/0311.png is a low contrast image\n",
      "  warn('%s is a low contrast image' % fname)\n",
      "C:\\Users\\chenyusu\\Anaconda3\\lib\\site-packages\\skimage\\io\\_io.py:140: UserWarning: C:/Users/chenyusu/CRCproject/data/test_other_new/0318.png is a low contrast image\n",
      "  warn('%s is a low contrast image' % fname)\n",
      "C:\\Users\\chenyusu\\Anaconda3\\lib\\site-packages\\skimage\\io\\_io.py:140: UserWarning: C:/Users/chenyusu/CRCproject/data/test_other_new/0324.png is a low contrast image\n",
      "  warn('%s is a low contrast image' % fname)\n",
      "C:\\Users\\chenyusu\\Anaconda3\\lib\\site-packages\\skimage\\io\\_io.py:140: UserWarning: C:/Users/chenyusu/CRCproject/data/test_other_new/0333.png is a low contrast image\n",
      "  warn('%s is a low contrast image' % fname)\n",
      "C:\\Users\\chenyusu\\Anaconda3\\lib\\site-packages\\skimage\\io\\_io.py:140: UserWarning: C:/Users/chenyusu/CRCproject/data/test_other_new/0360.png is a low contrast image\n",
      "  warn('%s is a low contrast image' % fname)\n",
      "C:\\Users\\chenyusu\\Anaconda3\\lib\\site-packages\\skimage\\io\\_io.py:140: UserWarning: C:/Users/chenyusu/CRCproject/data/test_other_new/0363.png is a low contrast image\n",
      "  warn('%s is a low contrast image' % fname)\n",
      "C:\\Users\\chenyusu\\Anaconda3\\lib\\site-packages\\skimage\\io\\_io.py:140: UserWarning: C:/Users/chenyusu/CRCproject/data/test_other_new/0365.png is a low contrast image\n",
      "  warn('%s is a low contrast image' % fname)\n"
     ]
    },
    {
     "name": "stderr",
     "output_type": "stream",
     "text": [
      "C:\\Users\\chenyusu\\Anaconda3\\lib\\site-packages\\skimage\\io\\_io.py:140: UserWarning: C:/Users/chenyusu/CRCproject/data/test_other_new/0376.png is a low contrast image\n",
      "  warn('%s is a low contrast image' % fname)\n",
      "C:\\Users\\chenyusu\\Anaconda3\\lib\\site-packages\\skimage\\io\\_io.py:140: UserWarning: C:/Users/chenyusu/CRCproject/data/test_other_new/0406.png is a low contrast image\n",
      "  warn('%s is a low contrast image' % fname)\n",
      "C:\\Users\\chenyusu\\Anaconda3\\lib\\site-packages\\skimage\\io\\_io.py:140: UserWarning: C:/Users/chenyusu/CRCproject/data/test_other_new/0411.png is a low contrast image\n",
      "  warn('%s is a low contrast image' % fname)\n",
      "C:\\Users\\chenyusu\\Anaconda3\\lib\\site-packages\\skimage\\io\\_io.py:140: UserWarning: C:/Users/chenyusu/CRCproject/data/test_other_new/0421.png is a low contrast image\n",
      "  warn('%s is a low contrast image' % fname)\n",
      "C:\\Users\\chenyusu\\Anaconda3\\lib\\site-packages\\skimage\\io\\_io.py:140: UserWarning: C:/Users/chenyusu/CRCproject/data/test_other_new/0447.png is a low contrast image\n",
      "  warn('%s is a low contrast image' % fname)\n",
      "C:\\Users\\chenyusu\\Anaconda3\\lib\\site-packages\\skimage\\io\\_io.py:140: UserWarning: C:/Users/chenyusu/CRCproject/data/test_other_new/0455.png is a low contrast image\n",
      "  warn('%s is a low contrast image' % fname)\n",
      "C:\\Users\\chenyusu\\Anaconda3\\lib\\site-packages\\skimage\\io\\_io.py:140: UserWarning: C:/Users/chenyusu/CRCproject/data/test_other_new/0500.png is a low contrast image\n",
      "  warn('%s is a low contrast image' % fname)\n",
      "C:\\Users\\chenyusu\\Anaconda3\\lib\\site-packages\\skimage\\io\\_io.py:140: UserWarning: C:/Users/chenyusu/CRCproject/data/test_other_new/0505.png is a low contrast image\n",
      "  warn('%s is a low contrast image' % fname)\n",
      "C:\\Users\\chenyusu\\Anaconda3\\lib\\site-packages\\skimage\\io\\_io.py:140: UserWarning: C:/Users/chenyusu/CRCproject/data/test_other_new/0507.png is a low contrast image\n",
      "  warn('%s is a low contrast image' % fname)\n",
      "C:\\Users\\chenyusu\\Anaconda3\\lib\\site-packages\\skimage\\io\\_io.py:140: UserWarning: C:/Users/chenyusu/CRCproject/data/test_other_new/0520.png is a low contrast image\n",
      "  warn('%s is a low contrast image' % fname)\n",
      "C:\\Users\\chenyusu\\Anaconda3\\lib\\site-packages\\skimage\\io\\_io.py:140: UserWarning: C:/Users/chenyusu/CRCproject/data/test_other_new/0537.png is a low contrast image\n",
      "  warn('%s is a low contrast image' % fname)\n",
      "C:\\Users\\chenyusu\\Anaconda3\\lib\\site-packages\\skimage\\io\\_io.py:140: UserWarning: C:/Users/chenyusu/CRCproject/data/test_other_new/0557.png is a low contrast image\n",
      "  warn('%s is a low contrast image' % fname)\n",
      "C:\\Users\\chenyusu\\Anaconda3\\lib\\site-packages\\skimage\\io\\_io.py:140: UserWarning: C:/Users/chenyusu/CRCproject/data/test_other_new/0573.png is a low contrast image\n",
      "  warn('%s is a low contrast image' % fname)\n",
      "C:\\Users\\chenyusu\\Anaconda3\\lib\\site-packages\\skimage\\io\\_io.py:140: UserWarning: C:/Users/chenyusu/CRCproject/data/test_other_new/0578.png is a low contrast image\n",
      "  warn('%s is a low contrast image' % fname)\n",
      "C:\\Users\\chenyusu\\Anaconda3\\lib\\site-packages\\skimage\\io\\_io.py:140: UserWarning: C:/Users/chenyusu/CRCproject/data/test_other_new/0582.png is a low contrast image\n",
      "  warn('%s is a low contrast image' % fname)\n",
      "C:\\Users\\chenyusu\\Anaconda3\\lib\\site-packages\\skimage\\io\\_io.py:140: UserWarning: C:/Users/chenyusu/CRCproject/data/test_other_new/0584.png is a low contrast image\n",
      "  warn('%s is a low contrast image' % fname)\n",
      "C:\\Users\\chenyusu\\Anaconda3\\lib\\site-packages\\skimage\\io\\_io.py:140: UserWarning: C:/Users/chenyusu/CRCproject/data/test_other_new/0587.png is a low contrast image\n",
      "  warn('%s is a low contrast image' % fname)\n"
     ]
    }
   ],
   "source": [
    "for i in range(len(p_rest)):\n",
    "    io.imsave('C:/Users/chenyusu/CRCproject/data/test_other_new/%04d.png' %i, p_rest[i])"
   ]
  },
  {
   "cell_type": "code",
   "execution_count": null,
   "metadata": {},
   "outputs": [],
   "source": []
  }
 ],
 "metadata": {
  "kernelspec": {
   "display_name": "Python 3",
   "language": "python",
   "name": "python3"
  },
  "language_info": {
   "codemirror_mode": {
    "name": "ipython",
    "version": 3
   },
   "file_extension": ".py",
   "mimetype": "text/x-python",
   "name": "python",
   "nbconvert_exporter": "python",
   "pygments_lexer": "ipython3",
   "version": "3.6.5"
  }
 },
 "nbformat": 4,
 "nbformat_minor": 2
}
