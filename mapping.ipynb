{
 "cells": [
  {
   "cell_type": "code",
   "execution_count": 1,
   "metadata": {},
   "outputs": [],
   "source": [
    "import numpy as np\n",
    "import matplotlib.pyplot as plt\n",
    "import csv\n",
    "import pandas as pd\n",
    "from pandas import ExcelWriter\n",
    "from pandas import ExcelFile\n",
    "import xlsxwriter\n",
    "import scipy.ndimage\n",
    "import xlwt\n",
    "from xlutils.copy import copy\n",
    "import xlrd\n",
    "import openpyxl"
   ]
  },
  {
   "cell_type": "code",
   "execution_count": 2,
   "metadata": {},
   "outputs": [],
   "source": [
    "with open('tumorbudclassifier_pred_e40_0.01_0.01.txt', 'r') as f:\n",
    "\n",
    "    a = f.read().splitlines()\n",
    "\n",
    "a = list(map(int, a))\n",
    "\n",
    "col = 600   #whole image / roi\n",
    "row = 600   \n",
    "p = 20    #roi / patch\n",
    "\n",
    "\n",
    "b = np.array(a, dtype=np.int)\n",
    "\n",
    "\n",
    "w = np.zeros((row,col))\n",
    "\n",
    "\n",
    "for i in range(int(row/p)):\n",
    "\n",
    "    for j in range(int(col/p)):\n",
    "\n",
    "        c = b[(i*row*p+j*p*p):(i*row*p+j*p*p)+p*p]\n",
    "\n",
    "        c = np.reshape(c, (p, p))\n",
    "\n",
    "        w[i*p:i*p+p, j*p:j*p+p] = c"
   ]
  },
  {
   "cell_type": "code",
   "execution_count": 3,
   "metadata": {},
   "outputs": [],
   "source": [
    "workbook = xlsxwriter.Workbook('tumorbudclassifier_more_pred_e40_0.01_0.01_sn_3_0.95g_0.8t.xlsx')\n",
    "worksheet = workbook.add_worksheet('Sheet1')\n",
    "\n",
    "for (row, col), data in np.ndenumerate(w):\n",
    "    if data == 3:\n",
    "        worksheet.write(row, col, 1)\n",
    "    else:\n",
    "        worksheet.write(row, col, data)\n",
    "    \n",
    "workbook.close()"
   ]
  },
  {
   "cell_type": "code",
   "execution_count": 4,
   "metadata": {},
   "outputs": [],
   "source": [
    "with open('coarseclassifier_4x_sn_3_0.95g_0.8t_pred.txt', 'r') as f:\n",
    "\n",
    "    x = f.read().splitlines()\n",
    "\n",
    "x = list(map(int, x))\n",
    "x = np.array([x])\n",
    "x = x.reshape(60,60)\n",
    "x = scipy.ndimage.zoom(x, 10, order=0)  #'Resampled by a factor of 10 with nearest interpolation'\n"
   ]
  },
  {
   "cell_type": "code",
   "execution_count": 5,
   "metadata": {},
   "outputs": [],
   "source": [
    "workbook = xlsxwriter.Workbook('coarseclassifier_pred_4x_sn_3_0.95g_0.8t.xlsx')\n",
    "worksheet = workbook.add_worksheet(\"Sheet1\")\n",
    "\n",
    "col = 0\n",
    "\n",
    "for row, data in enumerate(x):\n",
    "    worksheet.write_row(row, col, data)\n",
    "    \n",
    "    \n",
    "workbook.close()"
   ]
  },
  {
   "cell_type": "code",
   "execution_count": 6,
   "metadata": {},
   "outputs": [
    {
     "name": "stderr",
     "output_type": "stream",
     "text": [
      "C:\\Users\\chenyusu\\Anaconda3\\lib\\site-packages\\ipykernel_launcher.py:5: DeprecationWarning: Call to deprecated function get_sheet_by_name (Use wb[sheetname]).\n",
      "  \"\"\"\n"
     ]
    }
   ],
   "source": [
    "def main():\n",
    "\n",
    "    book = openpyxl.load_workbook('tumorbudclassifier_more_pred_e40_0.01_0.01_sn_3_0.95g_0.8t.xlsx')\n",
    "\n",
    "    sheet = book.get_sheet_by_name('Sheet1')\n",
    "    \n",
    "    for (row, col), data in np.ndenumerate(x):\n",
    "        if data == 0:\n",
    "            sheet.cell(row=row+1, column=col+1).value = 1\n",
    "        elif data == 2:\n",
    "            sheet.cell(row=row+1, column=col+1).value = 8\n",
    "\n",
    "    book.save('tumorbudclassifier_more_pred_e40_0.01_0.01_sn_3_0.95g_0.8t.xlsx')\n",
    "    \n",
    "if __name__ == '__main__':\n",
    "\n",
    "    main()"
   ]
  },
  {
   "cell_type": "code",
   "execution_count": 7,
   "metadata": {},
   "outputs": [
    {
     "name": "stderr",
     "output_type": "stream",
     "text": [
      "C:\\Users\\chenyusu\\Anaconda3\\lib\\site-packages\\pandas\\io\\excel.py:329: FutureWarning: The `sheetname` keyword is deprecated, use `sheet_name` instead\n",
      "  **kwds)\n"
     ]
    },
    {
     "data": {
      "image/png": "[encoded data removed]",
      "text/plain": [
       "<Figure size 432x288 with 2 Axes>"
      ]
     },
     "metadata": {},
     "output_type": "display_data"
    }
   ],
   "source": [
    "from matplotlib import colors\n",
    "#pred = output.data.max(1)[1] # get the index of the max log-probability\n",
    "#pd = pred.numpy()\n",
    "#pd = np.array([a])\n",
    "#pdmap = pd.reshape((600, 600))\n",
    "#pdmap = np.flipud(pdmap)\n",
    "mapp = pd.read_excel('tumorbudclassifier_more_pred_e40_0.01_0.01_sn_3_0.95g_0.8t.xlsx', sheetname='Sheet1', header=None) #if the first cell is Nan, write 7 to it first\n",
    "#mapp = mapp.fillna(value=8)\n",
    "mapp = mapp.values\n",
    "\n",
    "mapp = np.reshape(mapp,(600, 600))\n",
    "mapp = np.flipud(mapp)\n",
    "\n",
    "cmap = colors.ListedColormap([[0,0,0], [0,0.5,0], [1,1,0], [0,0.5,0], [1,0,0], [0,1,1], [0.5,0,0], [0,1,0], [1,0,1]])\n",
    "map = plt.pcolormesh(mapp, cmap=cmap)\n",
    "plt.axis('equal')\n",
    "cbar = plt.colorbar()\n",
    "cbar.ax.set_ylabel('')\n",
    "\n",
    "#f, (ax1, ax2) = plt.subplots(1,2,figsize=(15,8))\n",
    "#ax_color = ax1.pcolormesh(pdmap, cmap=cmap)\n",
    "#ax1.axis('equal')\n",
    "\n",
    "#cbar = ax1.colorbar()\n",
    "#cbar.ax.set_ylabel('')\n",
    "#print('Classes: green-Epithelial yellow-Lymphocytes brown-Stroma purple-TumorBuds')\n",
    "#ax2.imshow(np.transpose((torchvision.utils.make_grid(images, nrow=2)/2 + 0.5).numpy(), (1,2,0)))\n",
    "\n",
    "#plt.show()\n",
    "plt.savefig('map_tumorbud_e40_0.01_0.01_sn_3_0.95g_0.8t.png', figsize=(10,10), dpi=1920)"
   ]
  },
  {
   "cell_type": "code",
   "execution_count": null,
   "metadata": {},
   "outputs": [],
   "source": []
  }
 ],
 "metadata": {
  "kernelspec": {
   "display_name": "Python 3",
   "language": "python",
   "name": "python3"
  },
  "language_info": {
   "codemirror_mode": {
    "name": "ipython",
    "version": 3
   },
   "file_extension": ".py",
   "mimetype": "text/x-python",
   "name": "python",
   "nbconvert_exporter": "python",
   "pygments_lexer": "ipython3",
   "version": "3.6.5"
  }
 },
 "nbformat": 4,
 "nbformat_minor": 2
}
